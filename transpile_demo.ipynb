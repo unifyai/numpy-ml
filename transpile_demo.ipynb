{
 "cells": [
  {
   "cell_type": "code",
   "execution_count": 9,
   "metadata": {},
   "outputs": [],
   "source": [
    "# Ivy Integrations: NumPy ML"
   ]
  },
  {
   "cell_type": "markdown",
   "metadata": {},
   "source": [
    "In this demo we will show how you can use NumPy ML using Ivy's Integrated Transpiler Functions.\n",
    "\n",
    "First we will import the NumPy ML library."
   ]
  },
  {
   "cell_type": "code",
   "execution_count": 10,
   "metadata": {},
   "outputs": [],
   "source": [
    "import numpy_ml as nml"
   ]
  },
  {
   "cell_type": "code",
   "execution_count": 19,
   "metadata": {},
   "outputs": [],
   "source": [
    "# create a linear regression model\n",
    "model = nml.linear_models.LinearRegression().fit\n",
    "torch_model_fit = nml.to_torch(model)"
   ]
  },
  {
   "cell_type": "code",
   "execution_count": 20,
   "metadata": {},
   "outputs": [],
   "source": [
    "import torch"
   ]
  },
  {
   "cell_type": "code",
   "execution_count": 21,
   "metadata": {},
   "outputs": [],
   "source": [
    "#generate some data\n",
    "x_train = torch.randn(100, 3)\n",
    "y_train = torch.randn(100, 1)"
   ]
  },
  {
   "cell_type": "code",
   "execution_count": 22,
   "metadata": {},
   "outputs": [
    {
     "ename": "AssertionError",
     "evalue": "No parameters detected in the outputs.",
     "output_type": "error",
     "traceback": [
      "\u001b[0;31m---------------------------------------------------------------------------\u001b[0m",
      "\u001b[0;31mAssertionError\u001b[0m                            Traceback (most recent call last)",
      "Cell \u001b[0;32mIn[22], line 1\u001b[0m\n\u001b[0;32m----> 1\u001b[0m torch_model_fit(x_train, y_train)\n",
      "File \u001b[0;32mIIV.pyx:1379\u001b[0m, in \u001b[0;36mIIV.LazyGraph.__call__\u001b[0;34m()\u001b[0m\n",
      "File \u001b[0;32mIIV.pyx:1360\u001b[0m, in \u001b[0;36mIIV.LazyGraph._initialize\u001b[0;34m()\u001b[0m\n",
      "File \u001b[0;32mXXI.pyx:250\u001b[0m, in \u001b[0;36mXXI.transpile\u001b[0;34m()\u001b[0m\n",
      "File \u001b[0;32mXXI.pyx:98\u001b[0m, in \u001b[0;36mXXI._to_target_framework\u001b[0;34m()\u001b[0m\n",
      "File \u001b[0;32mXVX.pyx:585\u001b[0m, in \u001b[0;36mXVX.compile\u001b[0;34m()\u001b[0m\n",
      "File \u001b[0;32mXVX.pyx:652\u001b[0m, in \u001b[0;36mXVX._compile\u001b[0;34m()\u001b[0m\n",
      "File \u001b[0;32mIIV.pyx:737\u001b[0m, in \u001b[0;36mIIV.Graph.compiled\u001b[0;34m()\u001b[0m\n",
      "File \u001b[0;32mIIV.pyx:634\u001b[0m, in \u001b[0;36mIIV.Graph.connect\u001b[0;34m()\u001b[0m\n",
      "\u001b[0;31mAssertionError\u001b[0m: No parameters detected in the outputs."
     ]
    }
   ],
   "source": [
    "torch_model_fit(x_train, y_train)"
   ]
  }
 ],
 "metadata": {
  "kernelspec": {
   "display_name": "ivy_dev",
   "language": "python",
   "name": "python3"
  },
  "language_info": {
   "codemirror_mode": {
    "name": "ipython",
    "version": 3
   },
   "file_extension": ".py",
   "mimetype": "text/x-python",
   "name": "python",
   "nbconvert_exporter": "python",
   "pygments_lexer": "ipython3",
   "version": "3.10.12"
  },
  "orig_nbformat": 4
 },
 "nbformat": 4,
 "nbformat_minor": 2
}
